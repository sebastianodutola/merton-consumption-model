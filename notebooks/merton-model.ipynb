{
 "cells": [
  {
   "cell_type": "markdown",
   "metadata": {},
   "source": [
    "# Merton's optimal portfolio problem \n",
    "\n",
    "In 1969 Robert C. Merton wanted to answer a simple problem. Given a stochastic stock, risk-free fixed-income security and a reasonable consumption utility function, how much should an investor invest in both assets and how much should she consume.\n",
    "\n",
    "The setup for the problem makes a few more assumptions in order to make it tractable. \n",
    "\n",
    "1) assets can be modelled as log-normal (Geometric Brownian Motion assumption) \n",
    "2) Utility functions are taken from the single parameter family of Constant Relative Risk Aversion Utility functions (CRRA). \n",
    "\n",
    "For now we will accept log-normal asset pricing models for simplicity. The CRRA make sense for modelling consumption and investment patterns as it implies that capital allocation decisions are scale neutral (loosely risk aversion is understood in percentage of total wealth). The assumption might falter when considering the function class from a marginal utility perspective (the marginal utility of a 50% increase in wealth might be more important when poor than when rich) but we will leave those considerations for the discussion.\n",
    "\n",
    "## Naive investigations\n",
    "In this section we set up the wealth process and run some simulations with some naive consumption strategies.\n",
    "\n",
    "To start with we will be using the simplest wealth model: all gains are made from capital gains (i.e. no wage) and the risk-free asset has a constant interest rate\n",
    "\n",
    "$$\\begin{align}\n",
    "W(t) &\\equiv \\text{Wealth} \\\\\n",
    "C(t) &\\equiv \\text{Instantaneous consumption}\\\\\n",
    "r &\\equiv \\text{Constant risk-free interest rate}\\\\\n",
    "S(t) &\\equiv \\text{Risky asset price} \\\\\n",
    "\\end{align}\n",
    "$$\n",
    "\n"
   ]
  },
  {
   "cell_type": "code",
   "execution_count": 1,
   "metadata": {},
   "outputs": [],
   "source": [
    "import numpy as np \n",
    "import matplotlib.pyplot as plt \n",
    "\n",
    "#for reproducibility \n",
    "rng = np.random.default_rng(seed=200)"
   ]
  },
  {
   "cell_type": "code",
   "execution_count": null,
   "metadata": {},
   "outputs": [],
   "source": [
    "d"
   ]
  }
 ],
 "metadata": {
  "kernelspec": {
   "display_name": "merton",
   "language": "python",
   "name": "python3"
  },
  "language_info": {
   "codemirror_mode": {
    "name": "ipython",
    "version": 3
   },
   "file_extension": ".py",
   "mimetype": "text/x-python",
   "name": "python",
   "nbconvert_exporter": "python",
   "pygments_lexer": "ipython3",
   "version": "3.11.8"
  }
 },
 "nbformat": 4,
 "nbformat_minor": 2
}
